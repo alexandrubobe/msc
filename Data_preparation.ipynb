{
 "cells": [
  {
   "cell_type": "markdown",
   "source": [
    "1. Create the features file (Data)\n",
    "2. Create the labels file\n",
    "3. Add the frames\n",
    "4. Copy the placeholder_annotation and change the annotation folder and the interval_features"
   ],
   "metadata": {
    "collapsed": false
   },
   "id": "dc35489b69528422"
  },
  {
   "cell_type": "code",
   "execution_count": 1,
   "outputs": [],
   "source": [
    "import numpy as np\n",
    "import os"
   ],
   "metadata": {
    "collapsed": false,
    "ExecuteTime": {
     "end_time": "2024-03-21T15:33:28.252172Z",
     "start_time": "2024-03-21T15:33:28.192332500Z"
    }
   },
   "id": "f3b4f5566b49db87"
  },
  {
   "cell_type": "code",
   "execution_count": 4,
   "outputs": [
    {
     "name": "stdout",
     "output_type": "stream",
     "text": [
      "(249, 2048)\n"
     ]
    }
   ],
   "source": [
    "data = np.load(\"C:\\\\Users\\\\alexa\\\\Desktop\\\\Features_thumos14_test\\\\thumos\\\\i3d_features\\\\video_test_0000004.npy\")\n",
    "print(data.shape)"
   ],
   "metadata": {
    "collapsed": false,
    "ExecuteTime": {
     "end_time": "2024-03-18T15:40:44.200512500Z",
     "start_time": "2024-03-18T15:40:44.170600300Z"
    }
   },
   "id": "b63b4d4099723c0"
  },
  {
   "cell_type": "markdown",
   "source": [
    "1.Make sure to sort the features of videos and create an aggregated features file in ascending order."
   ],
   "metadata": {
    "collapsed": false
   },
   "id": "57787f4fdf63e822"
  },
  {
   "cell_type": "code",
   "execution_count": 0,
   "outputs": [],
   "source": [
    "# sorted_paths = sorted(os.listdir('C:\\\\Users\\\\alexa\\\\Desktop\\\\Features_thumos14_test\\\\thumos\\\\i3d_features'), key=lambda x: int(x[11:-4]))\n",
    "# combined_data = None\n",
    "# for path in sorted_paths:\n",
    "#     data = np.load(f'C:\\\\Users\\\\alexa\\\\Desktop\\\\Features_thumos14_test\\\\thumos\\\\i3d_features\\\\{path}')\n",
    "#     if combined_data is None:\n",
    "#         combined_data = np.copy(data)\n",
    "#     else:\n",
    "#         combined_data = np.append(combined_data, data, axis = 0)"
   ],
   "metadata": {
    "collapsed": false
   },
   "id": "f31e497102812f9a"
  },
  {
   "cell_type": "code",
   "execution_count": 12,
   "outputs": [
    {
     "name": "stdout",
     "output_type": "stream",
     "text": [
      "(337180, 2048)\n"
     ]
    }
   ],
   "source": [
    "# print(np.shape(combined_data))\n",
    "# np.save('C:\\\\Users\\\\alexa\\\\Desktop\\\\Thumos14\\\\features_test_set.npy', combined_data)"
   ],
   "metadata": {
    "collapsed": false,
    "ExecuteTime": {
     "end_time": "2024-03-18T15:58:33.304210Z",
     "start_time": "2024-03-18T15:58:31.021892700Z"
    }
   },
   "id": "982218794f4d26a7"
  },
  {
   "cell_type": "markdown",
   "source": [
    "2.Now create the Label file with i3d labels"
   ],
   "metadata": {
    "collapsed": false
   },
   "id": "3dceca37fac6f18a"
  },
  {
   "cell_type": "code",
   "execution_count": 21,
   "outputs": [],
   "source": [
    "import randomcolor\n",
    "\n",
    "fields = [\"segment_id\",\"video_label\", \"video_color\"]\n",
    "filename = \"C:\\\\Users\\\\alexa\\\\Desktop\\\\Thumos14\\\\labels_test_set.csv\"\n",
    "c = 0\n",
    "with open(filename, \"w\") as csvfile:\n",
    "    csvfile.write(\"segment_id,video_label,video_color,video2_label,video2_color\")\n",
    "    csvfile.write(\"\\n\")\n",
    "    for path in sorted_paths:\n",
    "        color = str(randomcolor.RandomColor().generate()[0]).upper()\n",
    "        data = np.load(f'C:\\\\Users\\\\alexa\\\\Desktop\\\\Features_thumos14_test\\\\thumos\\\\i3d_features\\\\{path}')\n",
    "        for row in range(0,data.shape[0]):\n",
    "            csvfile.write(f\"{c},{path[:-4]},{color},{path[:-4]},{color}\")\n",
    "            csvfile.write(\"\\n\")\n",
    "            c += 1\n",
    "        \n"
   ],
   "metadata": {
    "collapsed": false,
    "ExecuteTime": {
     "end_time": "2024-03-18T16:33:28.961945100Z",
     "start_time": "2024-03-18T16:33:26.302134100Z"
    }
   },
   "id": "30a689d545953538"
  },
  {
   "cell_type": "code",
   "execution_count": null,
   "outputs": [],
   "source": [
    "# sorted_paths = sorted(os.listdir('C:\\\\Users\\\\alexa\\\\Desktop\\\\Features_thumos14_test\\\\thumos\\\\i3d_features'), key=lambda x: int(x[11:-4]))\n",
    "# list_of_videos = [f\"TH14_test_set_mp4/{path[:-4]}.mp4\" for path in sorted_paths]\n",
    "# \n",
    "# import zipfile\n",
    "# with zipfile.ZipFile(\"C:\\\\Users\\\\alexa\\\\Downloads\\\\TH14_Test_set_mp4.zip\") as archive:\n",
    "#     for zip_info in archive.infolist():\n",
    "#         if zip_info.filename in list_of_videos:\n",
    "#             zip_info.filename = os.path.basename(zip_info.filename)\n",
    "#             archive.extract(zip_info, f\"C:\\\\Users\\\\alexa\\\\Desktop\\\\Thumos14\\\\videos\\\\\", pwd=b\"THUMOS14_REGISTERED\")\n"
   ],
   "metadata": {
    "collapsed": false,
    "is_executing": true,
    "ExecuteTime": {
     "start_time": "2024-03-20T11:50:48.889090700Z"
    }
   },
   "id": "a2df11ade444e75d"
  },
  {
   "cell_type": "code",
   "execution_count": 12,
   "outputs": [
    {
     "name": "stdout",
     "output_type": "stream",
     "text": [
      "video_test_0000004.mp4\n",
      "video_test_0000006.mp4\n",
      "video_test_0000007.mp4\n",
      "video_test_0000011.mp4\n",
      "video_test_0000026.mp4\n",
      "video_test_0000028.mp4\n",
      "video_test_0000039.mp4\n",
      "video_test_0000045.mp4\n",
      "video_test_0000046.mp4\n",
      "video_test_0000051.mp4\n",
      "video_test_0000058.mp4\n",
      "video_test_0000062.mp4\n",
      "video_test_0000073.mp4\n",
      "video_test_0000085.mp4\n",
      "video_test_0000113.mp4\n",
      "video_test_0000129.mp4\n",
      "video_test_0000131.mp4\n",
      "video_test_0000173.mp4\n",
      "video_test_0000179.mp4\n",
      "video_test_0000188.mp4\n",
      "video_test_0000211.mp4\n",
      "video_test_0000220.mp4\n",
      "video_test_0000238.mp4\n",
      "video_test_0000242.mp4\n",
      "video_test_0000250.mp4\n",
      "video_test_0000254.mp4\n",
      "video_test_0000270.mp4\n",
      "video_test_0000273.mp4\n",
      "video_test_0000278.mp4\n",
      "video_test_0000285.mp4\n",
      "video_test_0000292.mp4\n",
      "video_test_0000293.mp4\n",
      "video_test_0000308.mp4\n",
      "video_test_0000319.mp4\n",
      "video_test_0000324.mp4\n",
      "video_test_0000353.mp4\n",
      "video_test_0000355.mp4\n",
      "video_test_0000357.mp4\n",
      "video_test_0000367.mp4\n",
      "video_test_0000372.mp4\n",
      "video_test_0000374.mp4\n",
      "video_test_0000379.mp4\n",
      "video_test_0000392.mp4\n",
      "video_test_0000405.mp4\n",
      "video_test_0000412.mp4\n",
      "video_test_0000413.mp4\n",
      "video_test_0000423.mp4\n",
      "video_test_0000426.mp4\n",
      "video_test_0000429.mp4\n",
      "video_test_0000437.mp4\n",
      "video_test_0000442.mp4\n",
      "video_test_0000443.mp4\n",
      "video_test_0000444.mp4\n",
      "video_test_0000448.mp4\n",
      "video_test_0000450.mp4\n",
      "video_test_0000461.mp4\n",
      "video_test_0000464.mp4\n",
      "video_test_0000504.mp4\n",
      "video_test_0000505.mp4\n",
      "video_test_0000538.mp4\n",
      "video_test_0000541.mp4\n",
      "video_test_0000549.mp4\n",
      "video_test_0000556.mp4\n",
      "video_test_0000558.mp4\n",
      "video_test_0000560.mp4\n",
      "video_test_0000569.mp4\n",
      "video_test_0000577.mp4\n",
      "video_test_0000591.mp4\n",
      "video_test_0000593.mp4\n",
      "video_test_0000601.mp4\n",
      "video_test_0000602.mp4\n",
      "video_test_0000611.mp4\n",
      "video_test_0000615.mp4\n",
      "video_test_0000617.mp4\n",
      "video_test_0000622.mp4\n",
      "video_test_0000624.mp4\n",
      "video_test_0000626.mp4\n",
      "video_test_0000635.mp4\n",
      "video_test_0000664.mp4\n",
      "video_test_0000665.mp4\n",
      "video_test_0000671.mp4\n",
      "video_test_0000672.mp4\n",
      "video_test_0000673.mp4\n",
      "video_test_0000689.mp4\n",
      "video_test_0000691.mp4\n",
      "video_test_0000698.mp4\n",
      "video_test_0000701.mp4\n",
      "video_test_0000714.mp4\n",
      "video_test_0000716.mp4\n",
      "video_test_0000718.mp4\n",
      "video_test_0000723.mp4\n",
      "video_test_0000724.mp4\n",
      "video_test_0000730.mp4\n",
      "video_test_0000737.mp4\n",
      "video_test_0000740.mp4\n",
      "video_test_0000756.mp4\n",
      "video_test_0000762.mp4\n",
      "video_test_0000765.mp4\n",
      "video_test_0000767.mp4\n",
      "video_test_0000771.mp4\n",
      "video_test_0000785.mp4\n",
      "video_test_0000786.mp4\n",
      "video_test_0000793.mp4\n",
      "video_test_0000796.mp4\n",
      "video_test_0000798.mp4\n",
      "video_test_0000807.mp4\n",
      "video_test_0000814.mp4\n",
      "video_test_0000839.mp4\n",
      "video_test_0000844.mp4\n",
      "video_test_0000846.mp4\n",
      "video_test_0000847.mp4\n",
      "video_test_0000854.mp4\n",
      "video_test_0000864.mp4\n",
      "video_test_0000873.mp4\n",
      "video_test_0000882.mp4\n",
      "video_test_0000887.mp4\n",
      "video_test_0000896.mp4\n",
      "video_test_0000897.mp4\n",
      "video_test_0000903.mp4\n",
      "video_test_0000940.mp4\n",
      "video_test_0000946.mp4\n",
      "video_test_0000950.mp4\n",
      "video_test_0000964.mp4\n",
      "video_test_0000981.mp4\n",
      "video_test_0000987.mp4\n",
      "video_test_0000989.mp4\n",
      "video_test_0000991.mp4\n",
      "video_test_0001008.mp4\n",
      "video_test_0001038.mp4\n",
      "video_test_0001039.mp4\n",
      "video_test_0001040.mp4\n",
      "video_test_0001058.mp4\n",
      "video_test_0001064.mp4\n",
      "video_test_0001066.mp4\n",
      "video_test_0001072.mp4\n",
      "video_test_0001075.mp4\n",
      "video_test_0001076.mp4\n",
      "video_test_0001078.mp4\n",
      "video_test_0001079.mp4\n",
      "video_test_0001080.mp4\n",
      "video_test_0001081.mp4\n",
      "video_test_0001098.mp4\n",
      "video_test_0001114.mp4\n",
      "video_test_0001118.mp4\n",
      "video_test_0001123.mp4\n",
      "video_test_0001127.mp4\n",
      "video_test_0001129.mp4\n",
      "video_test_0001134.mp4\n",
      "video_test_0001135.mp4\n",
      "video_test_0001146.mp4\n",
      "video_test_0001153.mp4\n",
      "video_test_0001159.mp4\n",
      "video_test_0001162.mp4\n",
      "video_test_0001163.mp4\n",
      "video_test_0001164.mp4\n",
      "video_test_0001168.mp4\n",
      "video_test_0001174.mp4\n",
      "video_test_0001182.mp4\n",
      "video_test_0001194.mp4\n",
      "video_test_0001195.mp4\n",
      "video_test_0001201.mp4\n",
      "video_test_0001202.mp4\n",
      "video_test_0001207.mp4\n",
      "video_test_0001209.mp4\n",
      "video_test_0001219.mp4\n",
      "video_test_0001223.mp4\n",
      "video_test_0001229.mp4\n",
      "video_test_0001235.mp4\n",
      "video_test_0001247.mp4\n",
      "video_test_0001255.mp4\n",
      "video_test_0001257.mp4\n",
      "video_test_0001267.mp4\n",
      "video_test_0001268.mp4\n",
      "video_test_0001270.mp4\n",
      "video_test_0001276.mp4\n",
      "video_test_0001281.mp4\n",
      "video_test_0001292.mp4\n",
      "video_test_0001307.mp4\n",
      "video_test_0001309.mp4\n",
      "video_test_0001313.mp4\n",
      "video_test_0001314.mp4\n",
      "video_test_0001319.mp4\n",
      "video_test_0001324.mp4\n",
      "video_test_0001325.mp4\n",
      "video_test_0001339.mp4\n",
      "video_test_0001343.mp4\n",
      "video_test_0001358.mp4\n",
      "video_test_0001369.mp4\n",
      "video_test_0001389.mp4\n",
      "video_test_0001391.mp4\n",
      "video_test_0001409.mp4\n",
      "video_test_0001431.mp4\n",
      "video_test_0001433.mp4\n",
      "video_test_0001446.mp4\n",
      "video_test_0001447.mp4\n",
      "video_test_0001452.mp4\n",
      "video_test_0001459.mp4\n",
      "video_test_0001460.mp4\n",
      "video_test_0001463.mp4\n",
      "video_test_0001468.mp4\n",
      "video_test_0001483.mp4\n",
      "video_test_0001484.mp4\n",
      "video_test_0001495.mp4\n",
      "video_test_0001496.mp4\n",
      "video_test_0001508.mp4\n",
      "video_test_0001512.mp4\n",
      "video_test_0001522.mp4\n",
      "video_test_0001527.mp4\n",
      "video_test_0001531.mp4\n",
      "video_test_0001532.mp4\n",
      "video_test_0001549.mp4\n",
      "video_test_0001556.mp4\n",
      "video_test_0001558.mp4\n"
     ]
    }
   ],
   "source": [
    "# sorted_paths_videos = sorted(os.listdir('C:\\\\Users\\\\alexa\\\\Desktop\\\\Thumos14\\\\videos'), key=lambda x: int(x[11:-4]))\n",
    "# \n",
    "# frames_count = 0\n",
    "# for path in sorted_paths_videos:\n",
    "#     print(path)\n",
    "#     data = np.load(f'C:\\\\Users\\\\alexa\\\\Desktop\\\\Features_thumos14_test\\\\thumos\\\\i3d_features\\\\{path[:-4]}.npy')\n",
    "#     os.system(f'ffmpeg -i \"C:\\\\Users\\\\alexa\\\\Desktop\\\\Thumos14\\\\videos\\\\{path}\" -vf \"fps=1/(0.1333),scale=320:180\" -vframes {data.shape[0]} -start_number {frames_count} C:\\\\Users\\\\alexa\\\\Desktop\\\\Thumos14\\\\frames\\\\%d.jpg')\n",
    "#     frames_count += data.shape[0]\n"
   ],
   "metadata": {
    "collapsed": false,
    "ExecuteTime": {
     "end_time": "2024-03-21T16:25:04.323918900Z",
     "start_time": "2024-03-21T16:16:56.456746900Z"
    }
   },
   "id": "1eca1835946c6b9e"
  },
  {
   "cell_type": "code",
   "execution_count": 39,
   "outputs": [],
   "source": [
    "import os\n",
    "import json\n",
    "import numpy as np\n",
    "\n",
    "final_dict = {}\n",
    "color_set = {\"Unavailable\", \"Background\"}\n",
    "sorted_paths = sorted(os.listdir('C:\\\\Users\\\\alexa\\\\Desktop\\\\Features_thumos14_test\\\\thumos\\\\i3d_features'), key=lambda x: int(x[11:-4]))\n",
    "c = 0\n",
    "for path in sorted_paths:\n",
    "    c = 0\n",
    "    final_dict[path[:-4]] = {}\n",
    "    data = np.load(f'C:\\\\Users\\\\alexa\\\\Desktop\\\\Features_thumos14_test\\\\thumos\\\\i3d_features\\\\{path}')\n",
    "    for row in range(0,data.shape[0]):\n",
    "        if path[:-4] == \"video_test_0001292\":\n",
    "            final_dict[path[:-4]][c] = \"Unavailable\"\n",
    "        else:\n",
    "            final_dict[path[:-4]][c] = \"Background\"\n",
    "        c += 1"
   ],
   "metadata": {
    "collapsed": false,
    "ExecuteTime": {
     "end_time": "2024-04-01T14:42:34.849556400Z",
     "start_time": "2024-04-01T14:42:33.896328100Z"
    }
   },
   "id": "abf5c1bad2bafa78"
  },
  {
   "cell_type": "code",
   "execution_count": null,
   "outputs": [],
   "source": [
    "interval = 0.1333\n",
    "with open(\"C:\\\\Users\\\\alexa\\\\Desktop\\\\Features_thumos14_test\\\\thumos\\\\annotations\\\\thumos14.json\", \"r\") as file:\n",
    "    i3d_actions = json.load(file)\n",
    "    for video in i3d_actions[\"database\"].keys():\n",
    "        if \"test\" in video:\n",
    "            for annotation in i3d_actions[\"database\"][video][\"annotations\"]:\n",
    "                start = int(annotation[\"segment\"][0] // interval)\n",
    "                end = int(annotation[\"segment\"][1] // interval)\n",
    "                print(start, end)\n",
    "                for t in range(start , end + 1):\n",
    "                    final_dict[video][t] = annotation[\"label\"]\n",
    "                    color_set.add(annotation[\"label\"])\n",
    "   \n",
    "    "
   ],
   "metadata": {
    "collapsed": false
   },
   "id": "c70e603c43c2072"
  },
  {
   "cell_type": "code",
   "execution_count": null,
   "outputs": [],
   "source": [
    "import randomcolor\n",
    "filename = \"C:\\\\Users\\\\alexa\\\\Desktop\\\\Thumos14\\\\labels_test_set_i3d.csv\"\n",
    "c = 0\n",
    "color_set = list(color_set)\n",
    "colors = randomcolor.RandomColor().generate(count = len(color_set))\n",
    "\n",
    "print(color_set)\n",
    "print(colors)\n",
    "\n",
    "with open(filename, \"w\") as csvfile:\n",
    "    csvfile.write(\"segment_id,video_label,video_color,segment_i3d_label,segment_i3d_color\")\n",
    "    csvfile.write(\"\\n\")\n",
    "    for path in sorted_paths:\n",
    "        color_video = str(randomcolor.RandomColor().generate()[0]).upper()\n",
    "        data = np.load(f'C:\\\\Users\\\\alexa\\\\Desktop\\\\Features_thumos14_test\\\\thumos\\\\i3d_features\\\\{path}')\n",
    "        for row in range(0,data.shape[0]):\n",
    "            color_label = colors[color_set.index(final_dict[path[:-4]][row])].upper()\n",
    "            csvfile.write(f\"{c},{path[:-4]},{color_video},{final_dict[path[:-4]][row]},{color_label}\")\n",
    "            csvfile.write(\"\\n\")\n",
    "            c += 1\n",
    "            \n",
    "        \n",
    "    "
   ],
   "metadata": {
    "collapsed": false
   },
   "id": "e6b5caab96110d4a"
  },
  {
   "cell_type": "markdown",
   "source": [
    "### Create label file for GT annotations"
   ],
   "metadata": {
    "collapsed": false
   },
   "id": "32c9e1955d5f4add"
  },
  {
   "cell_type": "code",
   "execution_count": 15,
   "outputs": [],
   "source": [
    "import os\n",
    "import numpy as np\n",
    "\n",
    "sorted_paths = sorted(os.listdir('C:\\\\Users\\\\alexa\\\\Desktop\\\\Features_thumos14_test\\\\thumos\\\\i3d_features'), key=lambda x: int(x[11:-4]))\n",
    "final_dict = {}\n",
    "\n",
    "for path in sorted_paths:\n",
    "    c = 0\n",
    "    final_dict[path[:-4]] = {}\n",
    "    data = np.load(f'C:\\\\Users\\\\alexa\\\\Desktop\\\\Features_thumos14_test\\\\thumos\\\\i3d_features\\\\{path}')\n",
    "    for row in range(0,data.shape[0]):\n",
    "        final_dict[path[:-4]][c] = \"Background\"\n",
    "        c += 1"
   ],
   "metadata": {
    "collapsed": false,
    "ExecuteTime": {
     "end_time": "2024-04-03T12:47:56.546904200Z",
     "start_time": "2024-04-03T12:47:53.688579700Z"
    }
   },
   "id": "55fea1a34bfbd58f"
  },
  {
   "cell_type": "code",
   "execution_count": 16,
   "outputs": [
    {
     "name": "stdout",
     "output_type": "stream",
     "text": [
      "['BaseballPitch', 'BasketballDunk', 'Billiards', 'CleanAndJerk', 'CliffDiving', 'CricketBowling', 'CricketShot', 'Diving', 'FrisbeeCatch', 'GolfSwing', 'HammerThrow', 'HighJump', 'JavelinThrow', 'LongJump', 'PoleVault', 'Shotput', 'SoccerPenalty', 'TennisSwing', 'ThrowDiscus', 'VolleyballSpiking']\n"
     ]
    }
   ],
   "source": [
    "classes = []\n",
    "with open(\"C:\\\\Users\\\\alexa\\\\Desktop\\\\Features_thumos14_test\\\\thumos\\\\gt_annotation\\\\detclasslist.txt\", \"r\") as file:\n",
    "    for line in file:\n",
    "        split_line = line.split()\n",
    "        classes.append(split_line[1])\n",
    "\n",
    "print(classes)"
   ],
   "metadata": {
    "collapsed": false,
    "ExecuteTime": {
     "end_time": "2024-04-03T12:47:58.851593100Z",
     "start_time": "2024-04-03T12:47:58.820110Z"
    }
   },
   "id": "5785a9ed27d88b8c"
  },
  {
   "cell_type": "code",
   "execution_count": 17,
   "outputs": [],
   "source": [
    "interval = 0.1333\n",
    "for class_action in classes:\n",
    "    path = f\"C:\\\\Users\\\\alexa\\\\Desktop\\\\Features_thumos14_test\\\\thumos\\\\gt_annotation\\\\{class_action}_test.txt\"\n",
    "    with open(path, \"r\") as file:\n",
    "        for line in file:\n",
    "            split_line = line.split()\n",
    "            video = split_line[0]\n",
    "            start = int(float(split_line[1]) // interval)\n",
    "            end = int(float(split_line[2]) // interval)\n",
    "            if split_line[0] in final_dict:\n",
    "                for t in range(start , end + 1):\n",
    "                    final_dict[video][t] = class_action\n",
    "        "
   ],
   "metadata": {
    "collapsed": false,
    "ExecuteTime": {
     "end_time": "2024-04-03T12:48:02.079083800Z",
     "start_time": "2024-04-03T12:48:02.017080600Z"
    }
   },
   "id": "7f9a95a110708494"
  },
  {
   "cell_type": "code",
   "execution_count": 20,
   "outputs": [],
   "source": [
    "import randomcolor\n",
    "filename = \"C:\\\\Users\\\\alexa\\\\Desktop\\\\Thumos14\\\\labels_test_set_gt.csv\"\n",
    "c = 0\n",
    "classes.append(\"Background\")\n",
    "colors = randomcolor.RandomColor().generate(count = len(classes))\n",
    "\n",
    "with open(filename, \"w\") as csvfile:\n",
    "    csvfile.write(\"segment_id,video_label,video_color,segment_gt_label,segment_gt_color\")\n",
    "    csvfile.write(\"\\n\")\n",
    "    for path in sorted_paths:\n",
    "        color_video = str(randomcolor.RandomColor().generate()[0]).upper()\n",
    "        data = np.load(f'C:\\\\Users\\\\alexa\\\\Desktop\\\\Features_thumos14_test\\\\thumos\\\\i3d_features\\\\{path}')\n",
    "        for row in range(0,data.shape[0]):\n",
    "            color_label = colors[classes.index(final_dict[path[:-4]][row])].upper()\n",
    "            csvfile.write(f\"{c},{path[:-4]},{color_video},{final_dict[path[:-4]][row]},{color_label}\")\n",
    "            csvfile.write(\"\\n\")\n",
    "            c += 1"
   ],
   "metadata": {
    "collapsed": false,
    "ExecuteTime": {
     "end_time": "2024-04-03T12:50:22.587063100Z",
     "start_time": "2024-04-03T12:50:20.117070900Z"
    }
   },
   "id": "d189a418325e85df"
  },
  {
   "cell_type": "markdown",
   "source": [
    "### Create perfect features with noise "
   ],
   "metadata": {
    "collapsed": false
   },
   "id": "7f0756f27f10270b"
  },
  {
   "cell_type": "code",
   "execution_count": 52,
   "outputs": [],
   "source": [
    "sorted_paths = sorted(os.listdir('C:\\\\Users\\\\alexa\\\\Desktop\\\\Features_thumos14_test\\\\thumos\\\\i3d_features'), key=lambda x: int(x[11:-4]))\n",
    "\n",
    "i3d_features = np.load(\"C:\\\\Users\\\\alexa\\\\Desktop\\\\Thumos14\\\\features_test_set.npy\")\n",
    "perfect_features = np.zeros(shape = (337180,len(classes)))\n",
    "\n",
    "total = 0\n",
    "for path in sorted_paths:\n",
    "    data = np.load(f'C:\\\\Users\\\\alexa\\\\Desktop\\\\Features_thumos14_test\\\\thumos\\\\i3d_features\\\\{path}')\n",
    "    for row in range(0,data.shape[0]):\n",
    "        action = final_dict[path[:-4]][row]\n",
    "        index_action = classes.index(action)\n",
    "        perfect_features[total][index_action] = 1\n",
    "        noise = np.random.normal(scale=0.1, size=len(classes))\n",
    "        perfect_features[total] += noise\n",
    "        total += 1\n"
   ],
   "metadata": {
    "collapsed": false,
    "ExecuteTime": {
     "end_time": "2024-04-03T15:27:42.625946200Z",
     "start_time": "2024-04-03T15:27:38.572067800Z"
    }
   },
   "id": "3a06018a35dfc5ad"
  },
  {
   "cell_type": "code",
   "execution_count": 54,
   "outputs": [],
   "source": [
    "with open(\"C:\\\\Users\\\\alexa\\\\Desktop\\\\Thumos14\\\\features_perfect_noise.npy\", 'wb') as f:\n",
    "    np.save(f, perfect_features)"
   ],
   "metadata": {
    "collapsed": false,
    "ExecuteTime": {
     "end_time": "2024-04-03T15:29:24.063165Z",
     "start_time": "2024-04-03T15:29:23.986125700Z"
    }
   },
   "id": "e4bc23bf8d095627"
  },
  {
   "cell_type": "code",
   "execution_count": null,
   "outputs": [],
   "source": [],
   "metadata": {
    "collapsed": false
   },
   "id": "9128f0154581e2b3"
  }
 ],
 "metadata": {
  "kernelspec": {
   "display_name": "Python 3",
   "language": "python",
   "name": "python3"
  },
  "language_info": {
   "codemirror_mode": {
    "name": "ipython",
    "version": 2
   },
   "file_extension": ".py",
   "mimetype": "text/x-python",
   "name": "python",
   "nbconvert_exporter": "python",
   "pygments_lexer": "ipython2",
   "version": "2.7.6"
  }
 },
 "nbformat": 4,
 "nbformat_minor": 5
}
