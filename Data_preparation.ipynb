{
 "cells": [
  {
   "cell_type": "markdown",
   "source": [
    "1. Create the features file (Data)\n",
    "2. Create the labels file\n",
    "3. Add the frames\n",
    "4. Copy the placeholder_annotation and change the annotation folder"
   ],
   "metadata": {
    "collapsed": false
   },
   "id": "dc35489b69528422"
  },
  {
   "cell_type": "code",
   "execution_count": 2,
   "outputs": [],
   "source": [
    "import numpy as np"
   ],
   "metadata": {
    "collapsed": false,
    "ExecuteTime": {
     "end_time": "2024-03-18T15:10:18.594475400Z",
     "start_time": "2024-03-18T15:10:18.099441500Z"
    }
   },
   "id": "f3b4f5566b49db87"
  },
  {
   "cell_type": "code",
   "execution_count": 4,
   "outputs": [
    {
     "name": "stdout",
     "output_type": "stream",
     "text": [
      "(249, 2048)\n"
     ]
    }
   ],
   "source": [
    "data = np.load(\"C:\\\\Users\\\\alexa\\\\Desktop\\\\Features_thumos14_test\\\\thumos\\\\i3d_features\\\\video_test_0000004.npy\")\n",
    "print(data.shape)"
   ],
   "metadata": {
    "collapsed": false,
    "ExecuteTime": {
     "end_time": "2024-03-18T15:40:44.200512500Z",
     "start_time": "2024-03-18T15:40:44.170600300Z"
    }
   },
   "id": "b63b4d4099723c0"
  },
  {
   "cell_type": "markdown",
   "source": [
    "1.Make sure to sort the features of videos and create an aggregated features file in ascending order."
   ],
   "metadata": {
    "collapsed": false
   },
   "id": "57787f4fdf63e822"
  },
  {
   "cell_type": "code",
   "execution_count": 0,
   "outputs": [],
   "source": [
    "import os\n",
    "sorted_paths = sorted(os.listdir('C:\\\\Users\\\\alexa\\\\Desktop\\\\Features_thumos14_test\\\\thumos\\\\i3d_features'), key=lambda x: int(x[11:-4]))\n",
    "combined_data = None\n",
    "for path in sorted_paths:\n",
    "    data = np.load(f'C:\\\\Users\\\\alexa\\\\Desktop\\\\Features_thumos14_test\\\\thumos\\\\i3d_features\\\\{path}')\n",
    "    if combined_data is None:\n",
    "        combined_data = np.copy(data)\n",
    "    else:\n",
    "        combined_data = np.append(combined_data, data, axis = 0)"
   ],
   "metadata": {
    "collapsed": false
   },
   "id": "f31e497102812f9a"
  },
  {
   "cell_type": "code",
   "execution_count": 12,
   "outputs": [
    {
     "name": "stdout",
     "output_type": "stream",
     "text": [
      "(337180, 2048)\n"
     ]
    }
   ],
   "source": [
    "print(np.shape(combined_data))\n",
    "np.save('C:\\\\Users\\\\alexa\\\\Desktop\\\\Thumos14\\\\features_test_set.npy', combined_data)"
   ],
   "metadata": {
    "collapsed": false,
    "ExecuteTime": {
     "end_time": "2024-03-18T15:58:33.304210Z",
     "start_time": "2024-03-18T15:58:31.021892700Z"
    }
   },
   "id": "982218794f4d26a7"
  },
  {
   "cell_type": "markdown",
   "source": [
    "2.Now create the Label file."
   ],
   "metadata": {
    "collapsed": false
   },
   "id": "3dceca37fac6f18a"
  },
  {
   "cell_type": "code",
   "execution_count": 21,
   "outputs": [],
   "source": [
    "import randomcolor\n",
    "\n",
    "fields = [\"segment_id\",\"video_label\", \"video_color\"]\n",
    "filename = \"C:\\\\Users\\\\alexa\\\\Desktop\\\\Thumos14\\\\labels_test_set.csv\"\n",
    "c = 0\n",
    "with open(filename, \"w\") as csvfile:\n",
    "    csvfile.write(\"segment_id,video_label,video_color,video2_label,video2_color\")\n",
    "    csvfile.write(\"\\n\")\n",
    "    for path in sorted_paths:\n",
    "        color = str(randomcolor.RandomColor().generate()[0]).upper()\n",
    "        data = np.load(f'C:\\\\Users\\\\alexa\\\\Desktop\\\\Features_thumos14_test\\\\thumos\\\\i3d_features\\\\{path}')\n",
    "        for row in range(0,data.shape[0]):\n",
    "            csvfile.write(f\"{c},{path[:-4]},{color},{path[:-4]},{color}\")\n",
    "            csvfile.write(\"\\n\")\n",
    "            c += 1\n",
    "        \n",
    "\n",
    "            \n",
    "        \n",
    "        \n",
    "    \n"
   ],
   "metadata": {
    "collapsed": false,
    "ExecuteTime": {
     "end_time": "2024-03-18T16:33:28.961945100Z",
     "start_time": "2024-03-18T16:33:26.302134100Z"
    }
   },
   "id": "30a689d545953538"
  },
  {
   "cell_type": "code",
   "execution_count": null,
   "outputs": [],
   "source": [],
   "metadata": {
    "collapsed": false
   },
   "id": "a2df11ade444e75d"
  }
 ],
 "metadata": {
  "kernelspec": {
   "display_name": "Python 3",
   "language": "python",
   "name": "python3"
  },
  "language_info": {
   "codemirror_mode": {
    "name": "ipython",
    "version": 2
   },
   "file_extension": ".py",
   "mimetype": "text/x-python",
   "name": "python",
   "nbconvert_exporter": "python",
   "pygments_lexer": "ipython2",
   "version": "2.7.6"
  }
 },
 "nbformat": 4,
 "nbformat_minor": 5
}
