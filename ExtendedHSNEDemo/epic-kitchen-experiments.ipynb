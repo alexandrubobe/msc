{
 "cells": [
  {
   "cell_type": "code",
   "execution_count": 69,
   "outputs": [],
   "source": [
    "import pandas as pd"
   ],
   "metadata": {
    "collapsed": false,
    "ExecuteTime": {
     "end_time": "2024-05-06T16:45:01.374818800Z",
     "start_time": "2024-05-06T16:45:01.364288Z"
    }
   },
   "id": "2fff18bc76d5db01"
  },
  {
   "cell_type": "code",
   "execution_count": 70,
   "id": "initial_id",
   "metadata": {
    "collapsed": true,
    "ExecuteTime": {
     "end_time": "2024-05-06T16:45:02.575890500Z",
     "start_time": "2024-05-06T16:45:02.505559700Z"
    }
   },
   "outputs": [],
   "source": [
    "GT_LABELS = pd.read_csv(\"C:\\\\Users\\\\alexa\\\\Desktop\\\\EPIC-Kitchen100\\\\Val_set_hsne\\\\anno_val_set_segm.csv\", header=0)\n",
    "VERBS = pd.read_csv(\"C:\\\\Users\\\\alexa\\\\Desktop\\\\EPIC-Kitchen100\\\\EPIC_100_verb_classes.csv\", header=0, index_col='id')"
   ]
  },
  {
   "cell_type": "code",
   "execution_count": 71,
   "outputs": [
    {
     "name": "stdout",
     "output_type": "stream",
     "text": [
      "{'take': ['collect-from', 'collect-into', 'draw', 'fetch', 'get', 'get-from', 'get-in', 'get-off', 'get-with', 'grab', 'grab-down', 'grab-from', 'grab-up', 'pick', 'pick-from', 'pick-off', 'pick-up', 'pull-off', 'retrieve', 'take', 'take-from', 'take-in', 'take-of', 'take-to', 'take-up', 'unload', 'catch', 'take-into', 'remove-on', 'get-on', 'take-with', 'take-inside', 'take-on', 'take-down'], 'put': ['create', 'dose', 'lay', 'lay-down', 'lay-on', 'lay-onto', 'lay-out', 'layer', 'leave', 'leave-in', 'leave-with', 'lie', 'pace', 'place', 'place-away', 'place-back', 'place-down', 'place-on', 'place-onto', 'place-that', 'pose', 'position', 'pout', 'put', 'put-around', 'put-aside', 'put-away', 'put-back', 'put-down', 'put-from', 'put-of', 'put-on', 'put-onto', 'put-over', 'put-to', 'put-under', 'put-up', 'put-with', 'replace', 'reposition', 'rest', 'rest-against', 'rest-on', 'rest-onto', 'reture', 'return', 'return-from', 'return-into', 'set-down', 'tuck-under', 'pet-down', 'save', 'store', 'tip', 'put-unto', 'mushroom-onto', 'put-for', 'place-over', 'place-up', 'place-under', 'get-into', 'combine-from', 'put-outside', 'store-in', 'put-between', 'pick-into', 'layer-on', 'place-with'], 'wash': ['clean', 'clean-around', 'clean-from', 'clean-off', 'clean-up', 'clean-with', 'hoover', 'lather', 'mop-up', 'rinse', 'rinse-from', 'rinse-in', 'rinse-off', 'rinse-out', 'rinse-under', 'rise', 'soap', 'soap-up', 'sponge', 'wash', 'wash-around', 'wash-by', 'wash-off', 'wash-out', 'wash-under', 'wash-up', 'wash-with', 'wipe', 'wipe-around', 'wipe-by', 'wipe-down', 'wipe-from', 'wipe-in', 'wipe-into', 'wipe-of', 'wipe-off', 'wipe-on', 'wipe-onto', 'wipe-over', 'wipe-up', 'wipe-with', 'cool', 'wash-in', 'wash-on', 'rinse-into', 'rinse-on'], 'open': ['lever-open', 'open', 'open-in', 'open-on', 'open-up', 'open-with', 'uncork', 'unzip', 'open-to'], 'close': ['close', 'close-off', 'close-with', 'screw-on', 'screw-onto', 'shut', 'twist-on', 'close-in', 'close-on'], 'insert': ['drop-into', 'fit', 'fit-inside', 'insert', 'insert-into', 'move-in', 'place-in', 'place-into', 'pop-into', 'push-in', 'push-into', 'put-in', 'put-inside', 'put-into', 'slide-into', 'slide-onto', 'load', 'pack', 'place-inside', 'sheath', 'sheathe', 'insert-in'], 'turn-on': ['activate', 'begin', 'ignite', 'light', 'play', 'restart', 'start', 'switch-on', 'turn-on', 'water-on', 'tun-on'], 'cut': ['chop', 'chop-in', 'chop-off', 'chop-up', 'chop-with', 'cut', 'cut-in', 'cut-into', 'cut-off', 'cut-on', 'cut-out', 'cut-with', 'dice', 'half', 'halve', 'julienne', 'score', 'slice', 'slice-along', 'slice-at', 'slice-in', 'slice-into', 'slice-of', 'slice-off', 'slice-onto', 'slice-out', 'slice-through', 'slice-up', 'slice-with', 'snip', 'trim', 'make', 'stick', 'start-to', 'top', 'slice-to', 'chop-into', 'cut-from', 'slice-from', 'cut-by', 'make-into', 'trim-into'], 'turn-off': ['shut-off', 'switch-of', 'switch-off', 'switch-out', 'tap-off', 'turn-of', 'turn-off', 'water-off', 'flush'], 'pour': ['drizzle', 'drizzle-into', 'drizzle-on', 'pour', 'pour-down', 'pour-from', 'pour-in', 'pour-into', 'pour-on', 'pour-onto', 'pour-out', 'pour-over', 'shake-into', 'sieve', 'tip-from', 'tip-in', 'tip-into', 'pour-inside', 'sieve-with'], 'mix': ['beat', 'blend', 'fold-in', 'mix', 'mix-around', 'mix-in', 'mix-so', 'mix-together', 'mix-with', 'scramble', 'stir', 'stir-in', 'stir-into', 'stir-with', 'whisk', 'whisk-in', 'mix-into', 'stir-on'], 'move': ['back', 'drag-around', 'move', 'move-along', 'move-around', 'move-from', 'move-into', 'move-off', 'move-on', 'move-onto', 'move-through', 'move-to', 'move-with', 'move-within', 'pass-to', 'return-to', 'transfer', 'transfer-from', 'transfer-into', 'transfer-to', 'flick', 'flick-up', 'swap', 'distribute-in', 'make-in', 'change-for'], 'remove': ['dispense', 'extract', 'get-out', 'pick-out', 'pop-out', 'remove', 'remove-from', 'remove-inside', 'remove-into', 'remove-out', 'remove-with', 'take-off', 'take-out', 'unclip', 'unsheathe', 'clear', 'unplug', 'desee', 'remove-off', 'extract-from', 'fish-out'], 'throw': ['bin', 'chuck-into', 'discard', 'dispose-of', 'recycle', 'rubbish-in', 'throw', 'throw-away', 'throw-down', 'throw-for', 'throw-from', 'throw-in', 'throw-inside', 'throw-into', 'throw-off', 'throw-on', 'throw-onto', 'throw-out', 'throw-over', 'toss', 'trash', 'trow', 'swipe-into', 'throw-to', 'remain-in'], 'dry': ['dry', 'dry-off', 'dry-on', 'dry-with', 'towel', 'dry-in'], 'shake': ['jiggle', 'shake', 'shake-from', 'shake-in', 'shake-off', 'shake-on', 'shake-onto', 'shake-out', 'shake-over', 'shake-with', 'waft', 'swirl', 'swirl-in'], 'scoop': ['ladle', 'scoop', 'scoop-at', 'scoop-from', 'scoop-in', 'scoop-into', 'scoop-out', 'scoop-up', 'scoop-with', 'shovel', 'shovel-up', 'skim-off', 'spoon', 'spoon-in', 'spoon-into', 'spoon-onto', 'spoon-out'], 'adjust': ['adjust', 'adjust-in', 'adjust-on', 'calibrate', 'change', 'regulate'], 'squeeze': ['crumple', 'crumple-up', 'juice', 'scrunch-up', 'squash', 'squeeze', 'squeeze-around', 'squeeze-from', 'squeeze-in', 'squeeze-into', 'squeeze-onto', 'squeeze-out', 'squeeze-over', 'squeeze-with', 'squidge', 'squidge-into', 'squidge-with', 'squish', 'squish-into', 'wring', 'wring-out', 'let-out'], 'peel': ['peel', 'peel-back', 'peel-from', 'peel-off', 'peel-with', 'skin', 'skin-from', 'defoliate'], 'empty': ['empty', 'empty-from', 'empty-into', 'empty-out', 'tip-out', 'tip-to'], 'press': ['collapse', 'compress', 'press', 'press-down', 'press-into', 'press-on', 'press-onto', 'push', 'push-down', 'push-off', 'push-onto', 'push-out', 'push-up', 'press-in', 'push-on', 'compress-in', 'compress-on'], 'flip': ['flip', 'flip-in', 'flip-over', 'flip-through', 'overturn', 'turn-over', 'upturn', 'reverse', 'rotate-to', 'turn-with', 'flip-with', 'flip-onto'], 'turn': ['rotate', 'rotate-around', 'spin', 'turn', 'turn-around', 'turn-away', 'turn-in', 'turn-to'], 'check': ['check', 'check-in', 'check-on', 'check-out', 'ensure', 'examine', 'inspect', 'look-in', 'test', 'watch', 'count', 'realize'], 'scrape': ['drag-through', 'loose', 'scrap', 'scrape', 'scrape-against', 'scrape-around', 'scrape-down', 'scrape-from', 'scrape-in', 'scrape-into', 'scrape-of', 'scrape-off', 'scrape-on', 'scrape-onto', 'scrape-out', 'scrape-to', 'scrape-up', 'scrape-with', 'scratch-off', 'level', 'scrap-on', 'detach-from'], 'fill': ['fill', 'fill-from', 'fill-into', 'fill-up', 'fill-with', 'stuff', 'stuff-with'], 'apply': ['apply', 'apply-to', 'distribute', 'smear', 'spread', 'spread-around', 'spread-in', 'spread-into', 'spread-on', 'spread-onto', 'spread-out', 'spread-over', 'pump-onto', 'squirt', 'add-on', 'apply-in', 'spread-with'], 'fold': ['fold', 'fold-into', 'fold-over', 'fold-up'], 'scrub': ['scrub', 'scrub-down', 'scrub-inside', 'scrub-with', 'scour'], 'break': ['break', 'break-into', 'break-off', 'break-up', 'break-with', 'crack', 'crack-in', 'crack-into', 'crack-on', 'snap', 'shred', 'stem', 'debone', 'break-apart', 'break-in', 'open-into'], 'pull': ['pull', 'pull-at', 'pull-from', 'pull-in', 'pull-on', 'pull-out', 'pull-through', 'pull-up', 'pull-down'], 'pat': ['dab', 'dab-in', 'pat', 'pat-down', 'pat-into', 'poke', 'prod', 'tap', 'tap-against', 'tap-on', 'tap-with', 'hit', 'hit-on', 'hit-with', 'dab-with'], 'lift': ['lift', 'lift-from', 'lift-off', 'lift-out', 'lift-up', 'raise', 'tilt'], 'hold': ['hold', 'hold-along', 'hold-down', 'hold-in', 'hold-onto', 'hold-out', 'hold-over', 'hold-with'], 'eat': ['bite', 'chew-on', 'eat', 'eat-from', 'swallow', 'lick', 'sample', 'taste', 'eat-on'], 'wrap': ['clamp', 'clip', 'cover', 'cover-in', 'cover-with', 'fasten', 'lay-over', 'reseal', 'rewrap', 'seal', 'tie', 'tie-in', 'wrap', 'wrap-around', 'wrap-in', 'wrap-onto', 'wrap-up', 'wrap-with', 'seal-with', 'wrap-over', 'roll-up'], 'filter': ['drain', 'drain-from', 'drain-into', 'drain-on', 'drain-out', 'dump-out', 'filter', 'strain', 'strain-from', 'strain-in', 'drain-in'], 'look': ['look', 'look-at', 'look-behind', 'look-through', 'look-under', 'read', 'read-on', 'see', 'see-at', 'see-off', 'stare-at'], 'unroll': ['roll-out', 'unroll', 'unroll-from', 'unfold', 'unfurl'], 'sort': ['arrange', 'arrange-on', 'coil', 'line-up', 'pile', 'rearrange', 'sort', 'sort-out', 'straighten', 'straighten-out', 'tessellate', 'tidy', 'stack', 'stack-in', 'stack-up', 'align', 'rearrange-in', 'arrange-in', 'sort-in'], 'hang': ['drape', 'hang', 'hang-up', 'hand', 'hang-on'], 'sprinkle': ['crumble', 'crumble-into', 'distribute-on', 'distribute-onto', 'scatter', 'sprincle', 'sprinkle', 'sprinkle-in', 'sprinkle-into', 'sprinkle-on', 'sprinkle-onto', 'sprinkle-over', 'scatter-onto'], 'rip': ['rip', 'rip-off', 'tear', 'tear-down', 'tear-from', 'tear-in', 'tear-into', 'tear-off', 'tear-on', 'tear-out', 'tear-up', 'rip-with'], 'spray': ['spay', 'spray', 'spray-down', 'spray-on'], 'cook': ['boil', 'cook', 'fry', 'fry-in', 'heat', 'steam', 'stir-fry', 'toast', 'cook-into', 'boil-with'], 'add': ['add', 'add-from', 'add-into', 'add-to', 'combine', 'combine-into', 'add-in'], 'roll': ['roll', 'roll-around', 'roll-down', 'roll-in', 'roll-into', 'roll-on', 'roll-over'], 'search': ['browse', 'find', 'fumble-for', 'locate', 'look-for', 'look-inside', 'rifle-through', 'rummage-in', 'search', 'search-for', 'search-in'], 'crush': ['bash-against', 'crush', 'crush-into', 'crush-with', 'grind', 'grind-into', 'grind-on', 'mash', 'mash-with', 'soften', 'smash', 'grind-onto', 'crush-in'], 'stretch': ['stretch', 'stretch-around', 'stretch-onto', 'stretch-out'], 'knead': ['knead'], 'divide': ['detach', 'disassemble', 'divide', 'separate', 'separate-from', 'separate-out', 'split', 'split-into', 'unattach', 'divide-into'], 'set': ['set', 'set-in', 'set-on', 'set-out', 'set-off', 'zero', 'set-to'], 'feel': ['feel', 'touch'], 'rub': ['rub', 'rub-in', 'rub-into', 'rub-off', 'rub-on', 'rub-onto', 'rub-over', 'rub-with', 'scratch', 'deburr', 'rub-around'], 'soak': ['immerge', 'immerse', 'soak', 'soak-in', 'submerge', 'submerge-in'], 'brush': ['brush', 'brush-into', 'brush-off', 'brush-onto', 'sweep', 'sweep-from', 'sweep-into', 'sweep-off', 'sweep-up', 'brush-on', 'paste-onto'], 'sharpen': ['hone', 'sharpen', 'thin', 'forge'], 'drop': ['drop', 'drop-down', 'drop-in', 'drop-on', 'drop-onto', 'fall-on', 'release-from', 'spill', 'tip-over'], 'drink': ['drink', 'drink-from'], 'slide': ['slide', 'slide-acros', 'slide-along', 'slide-down', 'slide-from', 'slide-inside', 'slide-off', 'slide-on', 'slide-out'], 'water': ['damp', 'water', 'wet'], 'gather': ['collect', 'gather', 'gather-in', 'gather-into', 'gather-with', 'gather-from'], 'attach': ['assemble', 'attach', 'attach-onto', 'attach-to', 'clip-on', 'connect', 'plug', 'plug-in', 'plug-into', 'reassemble', 'reattach', 'snap-in', 'fix', 'expand'], 'turn-down': ['turn-down'], 'coat': ['batter', 'coat', 'brush-with', 'dip', 'marinate', 'butter-in', 'oil', 'smooth-into'], 'transition': ['transition', 'enter', 'enter-into', 'walk', 'walk-around', 'walk-into', 'walk-to', 'walk-with', 'sit-on', 'step', 'step-off', 'step-on', 'stand-up'], 'wear': ['wear'], 'measure': ['measure', 'measure-into', 'measure-out', 'weigh', 'measure-in'], 'increase': ['increase', 'set-up', 'switch-up', 'turn-up', 'increase-on', 'rise-up'], 'unscrew': ['screw-off', 'twist-off', 'unscrew', 'unscrew-from', 'untwist'], 'wait': ['wait', 'wait-for', 'decide-if', 'decide'], 'lower': ['lower', 'untilt'], 'form': ['ball-up', 'form', 'form-into', 'reconstruct', 'shape', 'shape-into', 'form-from'], 'smell': ['smell', 'smell-in', 'sniff', 'blow', 'blow-out'], 'use': ['use'], 'grate': ['grate', 'grate-into', 'grate-on', 'grate-onto', 'zest-into'], 'screw': ['screw', 'screw-in', 'tighten', 'twist'], 'let-go': ['let', 'let-go'], 'finish': ['end', 'finish', 'stop'], 'stab': ['pierce', 'pierce-in', 'stab', 'fork'], 'serve': ['dish', 'dish-up', 'plate', 'plate-on', 'plate-up', 'serve', 'serve-in', 'serve-on'], 'uncover': ['lid-off', 'uncover'], 'unwrap': ['unpack', 'unravel', 'unseal', 'unwrap'], 'choose': ['choose', 'select'], 'lock': ['lock', 'lock-in', 'lock-into', 'lock-on'], 'flatten': ['flatten', 'flatten-out', 'flatten-with'], 'switch': ['switch', 'switch-to'], 'carry': ['bring', 'carry', 'have', 'bring-to'], 'season': ['pepper', 'salt', 'season', 'sweeten', 'salt-in', 'pepper-in', 'season-with'], 'unlock': ['unlock', 'unlock-from'], 'prepare': ['prepare', 'prepare-for'], 'bake': ['bake'], 'mark': ['mark', 'mark-on'], 'bend': ['bend'], 'unfreeze': ['unfreeze']}\n"
     ]
    }
   ],
   "source": [
    "verbs = {}\n",
    "for i,row in VERBS.iterrows():\n",
    "    temp_row = row[\"instances\"][1:-1].replace(\" \",\"\").replace(\"'\",\"\").split(',')\n",
    "    verbs[row[\"key\"]] = temp_row\n",
    "    \n",
    "print(verbs)\n"
   ],
   "metadata": {
    "collapsed": false,
    "ExecuteTime": {
     "end_time": "2024-05-06T16:45:03.516040400Z",
     "start_time": "2024-05-06T16:45:03.508466100Z"
    }
   },
   "id": "6d34109ee016a877"
  },
  {
   "cell_type": "code",
   "execution_count": 72,
   "outputs": [],
   "source": [
    "ing_dict = {\n",
    "    'leaving': 'leave',\n",
    "    'turning': 'turn',\n",
    "    'scrubbing': 'scrub',\n",
    "    'frying': 'fry',\n",
    "    'pressing': 'press',\n",
    "    'wiping': 'wipe',\n",
    "    'pouring': 'pour',\n",
    "    'mixing': 'mix',\n",
    "    'slicing': 'slice',\n",
    "    'sprinkling': 'sprinkle',\n",
    "    'cutting': 'cut',\n",
    "    'something': 'something',\n",
    "    'dicing': 'dice',\n",
    "    'separating': 'separate',\n",
    "    'squeezing': 'squeeze',\n",
    "    'selecting': 'select',\n",
    "    'packaging': 'package',\n",
    "    'covering': 'cover',\n",
    "    'arranging': 'arrange',\n",
    "    'grinding': 'grind',\n",
    "    'starting': 'start',\n",
    "    'adjusting': 'adjust',\n",
    "    'closing': 'close',\n",
    "    'transferring': 'transfer',\n",
    "    'putting': 'put',\n",
    "    'spooning': 'spoon',\n",
    "    'chopping': 'chop',\n",
    "    'washing': 'wash',\n",
    "    'stirring': 'stir',\n",
    "    'breaking': 'break',\n",
    "    'draining': 'drain',\n",
    "    'taking': 'take',\n",
    "    'emptying': 'empty',\n",
    "    'cooking': 'cook',\n",
    "    'drying': 'dry',\n",
    "    'cleaning': 'clean',\n",
    "    'removing': 'remove',\n",
    "    'stuffing': 'stuff',\n",
    "    'rising': 'rise',\n",
    "    'entering': 'enter',\n",
    "    'placing': 'place',\n",
    "    'bringing': 'bring',\n",
    "    'opening': 'open',\n",
    "    'searching': 'search',\n",
    "    'squashing': 'squash',\n",
    "    'wearing': 'wear',\n",
    "    'looking': 'look',\n",
    "    'continuing': 'continue',\n",
    "    'rinsing': 'rinse'\n",
    "}"
   ],
   "metadata": {
    "collapsed": false,
    "ExecuteTime": {
     "end_time": "2024-05-06T16:45:05.528009700Z",
     "start_time": "2024-05-06T16:45:05.519815300Z"
    }
   },
   "id": "f8cd0ed980af0d7e"
  },
  {
   "cell_type": "code",
   "execution_count": 73,
   "outputs": [
    {
     "name": "stdout",
     "output_type": "stream",
     "text": [
      "defaultdict(<class 'int'>, {'take': 7429, 'put': 10586, 'fold': 219, 'open': 3045, 'throw': 563, 'close': 1757, 'dry': 768, 'cut': 3994, 'turn': 1641, 'wash': 11418, 'squeeze': 421, 'hang': 32, 'wrap': 311, 'remove': 973, 'move': 1024, 'pull': 42, 'unroll': 16, 'shake': 349, 'pour': 2624, 'drink': 50, 'lift': 17, 'crush': 268, 'rip': 69, 'look': 277, 'check': 191, 'mix': 5799, 'adjust': 318, 'eat': 167, 'filter': 242, 'sprinkle': 57, 'empty': 317, 'hold': 64, 'scoop': 576, 'set': 90, 'press': 119, 'knead': 352, 'apply': 604, 'roll': 193, 'add': 345, 'wear': 11, 'fill': 266, 'measure': 76, 'scrape': 139, 'peel': 1149, 'unwrap': 99, 'smell': 2, 'attach': 69, 'flip': 72, 'insert': 52, 'serve': 121, 'uncover': 11, 'transition': 50, 'unscrew': 40, 'pat': 33, 'screw': 91, 'choose': 59, 'season': 87, 'sort': 139, 'spray': 66, 'turn-on': 55, 'wait': 37, 'use': 204, 'stab': 56, 'break': 94, 'cook': 299, 'switch': 57, 'gather': 60, 'brush': 90, 'scrub': 186, 'drop': 11, 'divide': 316, 'finish': 8, 'carry': 12, 'search': 9, 'soak': 127, 'rub': 19, 'coat': 17, 'water': 3})\n"
     ]
    }
   ],
   "source": [
    "from collections import defaultdict\n",
    "labels_dict = defaultdict(int)\n",
    "ing_list = set()\n",
    "for label in GT_LABELS[\"segment_label\"]:\n",
    "    current_label = label\n",
    "    ok = 0\n",
    "    if label != \"none\":\n",
    "        label_split = current_label.split()\n",
    "        for l in label_split:\n",
    "            if l == \"stare\":\n",
    "                labels_dict[\"look\"] += 1\n",
    "                ok = 1\n",
    "            elif l == \"lid\":\n",
    "                labels_dict[\"uncover\"] += 1\n",
    "                ok = 1\n",
    "            elif l == \"fish\":\n",
    "                labels_dict[\"remove\"] += 1\n",
    "                ok = 1\n",
    "            elif l == \"thrown\":\n",
    "                labels_dict[\"throw\"] += 1\n",
    "                ok = 1\n",
    "            elif l == \"sit\":\n",
    "                labels_dict[\"transition\"] += 1\n",
    "                ok = 1\n",
    "            elif l == \"stacks\":\n",
    "                labels_dict[\"sort\"] += 1\n",
    "                ok = 1\n",
    "            else:\n",
    "                for k in list(verbs.keys()):\n",
    "                    if l in verbs[k]:\n",
    "                        labels_dict[k] += 1\n",
    "                        ok = 1\n",
    "                        break\n",
    "                if ok == 1:\n",
    "                    break\n",
    "                if \"ing\" in l:\n",
    "                    for k in list(verbs.keys()):\n",
    "                        if ing_dict[l] in verbs[k]:\n",
    "                            labels_dict[k] += 1\n",
    "                            ok = 1\n",
    "                            break\n",
    "            if ok == 1:\n",
    "                break\n",
    "    if ok == 0 and label != \"none\":\n",
    "        print(label)\n",
    "print(labels_dict)"
   ],
   "metadata": {
    "collapsed": false,
    "ExecuteTime": {
     "end_time": "2024-05-06T16:45:06.727957100Z",
     "start_time": "2024-05-06T16:45:06.507921100Z"
    }
   },
   "id": "77a8689c5a0650c1"
  },
  {
   "cell_type": "code",
   "execution_count": 74,
   "outputs": [
    {
     "name": "stdout",
     "output_type": "stream",
     "text": [
      "defaultdict(<class 'int'>, {'take': 7429, 'put': 10586, 'fold': 219, 'open': 3045, 'throw': 563, 'close': 1757, 'dry': 768, 'cut': 3994, 'turn': 1641, 'wash': 11418, 'squeeze': 421, 'hang': 32, 'wrap': 311, 'remove': 973, 'move': 1024, 'pull': 42, 'unroll': 16, 'shake': 349, 'pour': 2624, 'drink': 50, 'lift': 17, 'crush': 268, 'rip': 69, 'look': 277, 'check': 191, 'mix': 5799, 'adjust': 318, 'eat': 167, 'filter': 242, 'sprinkle': 57, 'empty': 317, 'hold': 64, 'scoop': 576, 'set': 90, 'press': 119, 'knead': 352, 'apply': 604, 'roll': 193, 'add': 345, 'wear': 11, 'fill': 266, 'measure': 76, 'scrape': 139, 'peel': 1149, 'unwrap': 99, 'smell': 2, 'attach': 69, 'flip': 72, 'insert': 52, 'serve': 121, 'uncover': 11, 'transition': 50, 'unscrew': 40, 'pat': 33, 'screw': 91, 'choose': 59, 'season': 87, 'sort': 139, 'spray': 66, 'turn-on': 55, 'wait': 37, 'use': 204, 'stab': 56, 'break': 94, 'cook': 299, 'switch': 57, 'gather': 60, 'brush': 90, 'scrub': 186, 'drop': 11, 'divide': 316, 'finish': 8, 'carry': 12, 'search': 9, 'soak': 127, 'rub': 19, 'coat': 17, 'water': 3})\n"
     ]
    }
   ],
   "source": [
    "print(labels_dict)"
   ],
   "metadata": {
    "collapsed": false,
    "ExecuteTime": {
     "end_time": "2024-05-06T16:45:08.779772700Z",
     "start_time": "2024-05-06T16:45:08.767666500Z"
    }
   },
   "id": "21402283afe0a76"
  },
  {
   "cell_type": "code",
   "execution_count": 64,
   "outputs": [
    {
     "name": "stdout",
     "output_type": "stream",
     "text": [
      "61619\n"
     ]
    }
   ],
   "source": [
    "# sum_labels = 0\n",
    "# for k in list(labels_dict.keys()):\n",
    "#     sum_labels += labels_dict[k]\n",
    "# print(sum_labels)"
   ],
   "metadata": {
    "collapsed": false,
    "ExecuteTime": {
     "end_time": "2024-05-04T15:15:11.183297900Z",
     "start_time": "2024-05-04T15:15:11.162300200Z"
    }
   },
   "id": "57692c6767394610"
  },
  {
   "cell_type": "code",
   "execution_count": 65,
   "outputs": [
    {
     "name": "stdout",
     "output_type": "stream",
     "text": [
      "61619\n"
     ]
    }
   ],
   "source": [
    "# c = 0\n",
    "# for label in GT_LABELS[\"segment_label\"]:\n",
    "#     if label != \"none\":\n",
    "#         c += 1\n",
    "# print(c)"
   ],
   "metadata": {
    "collapsed": false,
    "ExecuteTime": {
     "end_time": "2024-05-04T15:15:12.194460700Z",
     "start_time": "2024-05-04T15:15:12.183461700Z"
    }
   },
   "id": "417c8eab73b68a5b"
  },
  {
   "cell_type": "code",
   "execution_count": 75,
   "outputs": [],
   "source": [
    "amount_annotated = {}\n",
    "for k in list(labels_dict.keys()):\n",
    "    amount_annotated[k] = 0\n",
    "\n",
    "final_annotated_human = []\n",
    "with open(\"C:\\\\msc\\\\msc\\\\Experiments_output\\\\Epic-Kitchen_exp\\\\Annotating_human_drilling.txt\", \"r\") as file:\n",
    "    for line in file:\n",
    "        splits = line.split(\",\")\n",
    "        for split in splits:\n",
    "            if split != \"0\":\n",
    "                points = split.split(\"-\")\n",
    "                values = points[0]\n",
    "                key = points[1]\n",
    "                amount_annotated[key] += int(values)\n",
    "            annotated = []\n",
    "            for k in list(amount_annotated.keys()):\n",
    "                annotated.append(min(amount_annotated[k]/labels_dict[k],1))                \n",
    "            final_annotated_human.append(sum(annotated)/len(annotated))\n",
    "\n",
    "final_annotated_human_y = range(len(final_annotated_human))"
   ],
   "metadata": {
    "collapsed": false,
    "ExecuteTime": {
     "end_time": "2024-05-06T16:47:16.202076Z",
     "start_time": "2024-05-06T16:47:16.199077500Z"
    }
   },
   "id": "c0b0e1b1c7644e28"
  },
  {
   "cell_type": "code",
   "execution_count": 78,
   "outputs": [
    {
     "data": {
      "text/plain": "<Figure size 640x480 with 1 Axes>",
      "image/png": "[encoded data removed]"
     },
     "metadata": {},
     "output_type": "display_data"
    }
   ],
   "source": [
    "import matplotlib.pyplot as plt\n",
    "\n",
    "plt.plot(final_annotated_human_y,final_annotated_human,\"bo--\",label=\"3 scales - Test features - Manual Drilling\")\n",
    "\n",
    "plt.title(\"Effort required for annotating - No help - Epic Kitchen\")\n",
    "plt.xlabel(\"Effort (clicks)\")\n",
    "plt.ylabel(\"Total percentage annotated\")\n",
    "plt.legend()\n",
    "# plt.savefig(\"C:\\\\msc\\\\msc\\\\Experiments_output\\\\annotating_effort_uni.png\")\n",
    "plt.show()"
   ],
   "metadata": {
    "collapsed": false,
    "ExecuteTime": {
     "end_time": "2024-05-06T16:48:53.246265100Z",
     "start_time": "2024-05-06T16:48:53.167608700Z"
    }
   },
   "id": "c34ed2edcd8fb36b"
  },
  {
   "cell_type": "code",
   "execution_count": null,
   "outputs": [],
   "source": [],
   "metadata": {
    "collapsed": false
   },
   "id": "f2fadf720f14ba35"
  }
 ],
 "metadata": {
  "kernelspec": {
   "display_name": "Python 3",
   "language": "python",
   "name": "python3"
  },
  "language_info": {
   "codemirror_mode": {
    "name": "ipython",
    "version": 2
   },
   "file_extension": ".py",
   "mimetype": "text/x-python",
   "name": "python",
   "nbconvert_exporter": "python",
   "pygments_lexer": "ipython2",
   "version": "2.7.6"
  }
 },
 "nbformat": 4,
 "nbformat_minor": 5
}
