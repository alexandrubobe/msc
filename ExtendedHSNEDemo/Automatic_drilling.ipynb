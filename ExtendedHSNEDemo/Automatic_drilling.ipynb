{
 "cells": [
  {
   "cell_type": "code",
   "execution_count": 2,
   "id": "initial_id",
   "metadata": {
    "collapsed": true,
    "ExecuteTime": {
     "end_time": "2024-05-01T10:36:03.712952800Z",
     "start_time": "2024-05-01T10:36:02.805583600Z"
    }
   },
   "outputs": [],
   "source": [
    "import json\n",
    "\n",
    "import nptsne\n",
    "import numpy as np\n",
    "from nptsne import hsne_analysis\n",
    "import pandas as pd\n"
   ]
  },
  {
   "cell_type": "code",
   "execution_count": 3,
   "outputs": [],
   "source": [
    "X = np.load(\"C:\\\\Users\\\\alexa\\\\Desktop\\\\EPIC-Kitchen100\\\\Val_set_hsne\\\\feats_val_set.npy\")\n",
    "GT_LABELS = pd.read_csv(\"C:\\\\Users\\\\alexa\\\\Desktop\\\\EPIC-Kitchen100\\\\Val_set_hsne\\\\anno_val_set_segm.csv\", header=0)"
   ],
   "metadata": {
    "collapsed": false,
    "ExecuteTime": {
     "end_time": "2024-05-01T10:36:06.412444500Z",
     "start_time": "2024-05-01T10:36:04.387150500Z"
    }
   },
   "id": "d883d6f274924101"
  },
  {
   "cell_type": "code",
   "execution_count": 4,
   "outputs": [],
   "source": [
    "def create_hsne(scales = 3):\n",
    "    print(f'Size data: {X.shape}')\n",
    "    hsne = nptsne.HSne(True)\n",
    "    hsne.create_hsne(X, scales)\n",
    "    print(f'Num scales: {hsne.num_scales} Num points {hsne.num_data_points}')\n",
    "    return hsne"
   ],
   "metadata": {
    "collapsed": false,
    "ExecuteTime": {
     "end_time": "2024-05-01T10:36:07.331979400Z",
     "start_time": "2024-05-01T10:36:07.297752500Z"
    }
   },
   "id": "81546751cbff7511"
  },
  {
   "cell_type": "code",
   "execution_count": 5,
   "outputs": [],
   "source": [
    "def create_top_analysis(hsne, iterations = 500):\n",
    "    top_analysis = nptsne.hsne_analysis.Analysis(hsne,nptsne.hsne_analysis.EmbedderType.GPU)\n",
    "    for i in range(iterations):\n",
    "        top_analysis.do_iteration()\n",
    "    return top_analysis"
   ],
   "metadata": {
    "collapsed": false,
    "ExecuteTime": {
     "end_time": "2024-05-01T10:36:07.815451900Z",
     "start_time": "2024-05-01T10:36:07.783758700Z"
    }
   },
   "id": "62480037e2318fcb"
  },
  {
   "cell_type": "code",
   "execution_count": 6,
   "outputs": [],
   "source": [
    "def get_total_labels_per_class():\n",
    "    unique, counts = np.unique(GT_LABELS[\"segment_gt_label\"], return_counts=True)\n",
    "    total_labels = dict(zip(unique, counts))\n",
    "    return total_labels\n",
    "\n",
    "def get_true_labels_for_analysis(analysis):\n",
    "    original_indexes = analysis.landmark_orig_indexes\n",
    "    return GT_LABELS[GT_LABELS[\"segment_id\"].isin(original_indexes)][\"segment_gt_label\"]\n",
    "\n",
    "def find_gt_labels_in_analysis(analysis):\n",
    "    original_indexes = analysis.landmark_orig_indexes\n",
    "    unique, counts = np.unique(GT_LABELS[GT_LABELS[\"segment_id\"].isin(original_indexes)][\"segment_gt_label\"], return_counts=True)\n",
    "    return dict(zip(unique,counts))\n",
    "\n",
    "def find_number_of_gt_labels_in_analysis(analysis):\n",
    "    original_indexes = analysis.landmark_orig_indexes\n",
    "    return len(pd.unique(GT_LABELS[GT_LABELS[\"segment_id\"].isin(original_indexes)][\"segment_gt_label\"]))"
   ],
   "metadata": {
    "collapsed": false,
    "ExecuteTime": {
     "end_time": "2024-05-01T10:36:08.238755500Z",
     "start_time": "2024-05-01T10:36:08.202448400Z"
    }
   },
   "id": "2d949cc547d336f1"
  },
  {
   "cell_type": "code",
   "execution_count": 7,
   "outputs": [],
   "source": [
    "hsne = nptsne.HSne(True)\n",
    "hsne.load_hsne(X,\"C:\\\\Users\\\\alexa\\\\Desktop\\\\Thumos14\\\\features_test_set.hsne\")\n",
    "top_analysis = create_top_analysis(hsne)"
   ],
   "metadata": {
    "collapsed": false,
    "ExecuteTime": {
     "end_time": "2024-05-01T10:36:17.800963900Z",
     "start_time": "2024-05-01T10:36:15.207854700Z"
    }
   },
   "id": "f96930922913c934"
  },
  {
   "cell_type": "code",
   "execution_count": 8,
   "outputs": [],
   "source": [
    "# embedding_with_indexes = list(zip(top_analysis.embedding, top_analysis.landmark_indexes))"
   ],
   "metadata": {
    "collapsed": false,
    "ExecuteTime": {
     "end_time": "2024-04-30T20:12:16.260001700Z",
     "start_time": "2024-04-30T20:12:16.237882900Z"
    }
   },
   "id": "b32d4ce6b853b32a"
  },
  {
   "cell_type": "code",
   "execution_count": 9,
   "outputs": [],
   "source": [
    "# embedding_with_indexes_sorted = sorted(embedding_with_indexes, key = lambda x: (x[0][0], x[0][1]))"
   ],
   "metadata": {
    "collapsed": false,
    "ExecuteTime": {
     "end_time": "2024-04-30T20:12:16.272043100Z",
     "start_time": "2024-04-30T20:12:16.251434800Z"
    }
   },
   "id": "f39d82374b9de78e"
  },
  {
   "cell_type": "code",
   "execution_count": 10,
   "outputs": [],
   "source": [
    "# def split_into_chunks(size_of_chunk = 278):\n",
    "#     split_indexes = []\n",
    "#     for i in range(len(embedding_with_indexes_sorted)//size_of_chunk):\n",
    "#         current_list = []\n",
    "#         for j in range(size_of_chunk):\n",
    "#             if i * size_of_chunk + j >= len(embedding_with_indexes_sorted):\n",
    "#                 if len(current_list) > 0:\n",
    "#                     split_indexes.append(current_list)\n",
    "#                 break\n",
    "#             current_list.append(embedding_with_indexes_sorted[i*size_of_chunk + j][1])\n",
    "#         split_indexes.append(current_list)\n",
    "#     return split_indexes"
   ],
   "metadata": {
    "collapsed": false,
    "ExecuteTime": {
     "end_time": "2024-04-30T20:12:16.288245400Z",
     "start_time": "2024-04-30T20:12:16.266533100Z"
    }
   },
   "id": "f42c0c5a5ee39542"
  },
  {
   "cell_type": "code",
   "execution_count": 8,
   "outputs": [],
   "source": [
    "def create_new_analysis(hsne, points, parent_analysis, iterations = 500):\n",
    "    new_analysis = nptsne.hsne_analysis.Analysis(hsne, embedder_type= nptsne.hsne_analysis.EmbedderType.GPU, parent=parent_analysis, parent_selection=points)\n",
    "    for i in range(iterations):\n",
    "        new_analysis.do_iteration()\n",
    "    return new_analysis"
   ],
   "metadata": {
    "collapsed": false,
    "ExecuteTime": {
     "end_time": "2024-05-01T10:36:23.483660400Z",
     "start_time": "2024-05-01T10:36:23.463855500Z"
    }
   },
   "id": "1fbf83a01ba9bfde"
  },
  {
   "cell_type": "code",
   "execution_count": 9,
   "outputs": [],
   "source": [
    "from sklearn.cluster import KMeans\n",
    "def create_clustering(analysis, n_clusters):\n",
    "    points = analysis.embedding\n",
    "    kmeans = KMeans(n_clusters=n_clusters)\n",
    "    kmeans.fit(points)\n",
    "    return kmeans"
   ],
   "metadata": {
    "collapsed": false,
    "ExecuteTime": {
     "end_time": "2024-05-01T10:36:26.206338400Z",
     "start_time": "2024-05-01T10:36:24.322411Z"
    }
   },
   "id": "3ed989e3b5dc9b87"
  },
  {
   "cell_type": "code",
   "execution_count": 22,
   "outputs": [
    {
     "name": "stderr",
     "output_type": "stream",
     "text": [
      "C:\\Users\\alexa\\anaconda3\\envs\\HSNE\\lib\\site-packages\\sklearn\\cluster\\_kmeans.py:1416: FutureWarning: The default value of `n_init` will change from 10 to 'auto' in 1.4. Set the value of `n_init` explicitly to suppress the warning\n",
      "  super()._check_params_vs_input(X, default_n_init=10)\n"
     ]
    },
    {
     "data": {
      "text/plain": "<Figure size 640x480 with 2 Axes>",
      "image/png": "[encoded data removed]"
     },
     "metadata": {},
     "output_type": "display_data"
    }
   ],
   "source": [
    "# import matplotlib.pyplot as plt\n",
    "# kmeans = create_clustering(top_analysis, 7)\n",
    "# points = top_analysis.embedding\n",
    "# cluster_labels_kmeans = kmeans.labels_\n",
    "# plt.scatter(points[:, 0], points[:, 1], c=cluster_labels_kmeans, cmap='plasma', s=10)\n",
    "# plt.title('Kmeans')\n",
    "# plt.xlabel('X Axis Label')\n",
    "# plt.ylabel('Y Axis Label')\n",
    "# plt.colorbar(label='Cluster Label')\n",
    "# plt.grid(True)\n",
    "# plt.show()\n"
   ],
   "metadata": {
    "collapsed": false,
    "ExecuteTime": {
     "end_time": "2024-05-01T11:31:56.213019300Z",
     "start_time": "2024-05-01T11:31:55.855514800Z"
    }
   },
   "id": "504b5325615fd6c2"
  },
  {
   "cell_type": "code",
   "execution_count": 10,
   "outputs": [],
   "source": [
    "class ComparableAnalysis:\n",
    "    def __init__(self, number_of_points, analysis):\n",
    "        self.number_of_points = number_of_points\n",
    "        self.analysis = analysis\n",
    "    \n",
    "    def __lt__(self, other):\n",
    "        return self.number_of_points < other.number_of_points\n",
    "    \n",
    "    def __eq__(self, other):\n",
    "        return self.analysis.id == other.analysis.id"
   ],
   "metadata": {
    "collapsed": false,
    "ExecuteTime": {
     "end_time": "2024-05-01T10:36:28.062312Z",
     "start_time": "2024-05-01T10:36:28.037726100Z"
    }
   },
   "id": "fd19fde9203fb8cb"
  },
  {
   "cell_type": "code",
   "execution_count": 25,
   "outputs": [],
   "source": [
    "import queue\n",
    "\n",
    "def bfs(hsne, top_analysis, always_most_points = False, dfs = True):\n",
    "    final_indexes = []\n",
    "    if dfs:\n",
    "        queue_analysis = queue.LifoQueue()\n",
    "    elif always_most_points:\n",
    "        queue_analysis = queue.PriorityQueue()\n",
    "    else:\n",
    "        queue_analysis = queue.Queue()\n",
    "    queue_analysis.put(ComparableAnalysis(top_analysis.number_of_points, top_analysis))\n",
    "    while not queue_analysis.empty():\n",
    "        current_analysis = queue_analysis.get().analysis\n",
    "        print(current_analysis.scale_id)\n",
    "        if current_analysis.scale_id == 0:\n",
    "            final_indexes.append(current_analysis.landmark_orig_indexes)\n",
    "        if current_analysis.number_of_points >= 1:\n",
    "            if current_analysis.scale_id == 2:\n",
    "                clustering = create_clustering(current_analysis, n_clusters=8)\n",
    "                for label in np.unique(clustering.labels_):\n",
    "                    new_points = np.where(clustering.labels_ == label)[0]\n",
    "                    iterations = 500\n",
    "                    if len(new_points) < 50:\n",
    "                        iterations = 50\n",
    "                    temp_analysis = create_new_analysis(hsne,new_points.tolist(),current_analysis, iterations)\n",
    "                    #multiplied by -1 so I get inverse order for the PriorityQueue\n",
    "                    queue_analysis.put(ComparableAnalysis(-1 * temp_analysis.number_of_points, temp_analysis))\n",
    "            elif current_analysis.scale_id == 1:\n",
    "                new_points = list(range(current_analysis.number_of_points))\n",
    "                iterations = 500\n",
    "                if len(new_points) < 50:\n",
    "                    iterations = 50\n",
    "                temp_analysis = create_new_analysis(hsne,new_points,current_analysis, iterations)\n",
    "                queue_analysis.put(ComparableAnalysis(-1 * temp_analysis.number_of_points, temp_analysis))\n",
    "    return final_indexes"
   ],
   "metadata": {
    "collapsed": false,
    "ExecuteTime": {
     "end_time": "2024-05-01T14:18:13.924219400Z",
     "start_time": "2024-05-01T14:18:13.917111300Z"
    }
   },
   "id": "578c125fd72e68ea"
  },
  {
   "cell_type": "code",
   "execution_count": 26,
   "outputs": [
    {
     "name": "stdout",
     "output_type": "stream",
     "text": [
      "2\n"
     ]
    },
    {
     "name": "stderr",
     "output_type": "stream",
     "text": [
      "C:\\Users\\alexa\\anaconda3\\envs\\HSNE\\lib\\site-packages\\sklearn\\cluster\\_kmeans.py:1416: FutureWarning: The default value of `n_init` will change from 10 to 'auto' in 1.4. Set the value of `n_init` explicitly to suppress the warning\n",
      "  super()._check_params_vs_input(X, default_n_init=10)\n"
     ]
    },
    {
     "name": "stdout",
     "output_type": "stream",
     "text": [
      "1\n",
      "0\n",
      "1\n",
      "0\n",
      "1\n",
      "0\n",
      "1\n",
      "0\n",
      "1\n",
      "0\n",
      "1\n",
      "0\n",
      "1\n",
      "0\n",
      "1\n",
      "0\n"
     ]
    }
   ],
   "source": [
    "final_indexes = bfs(hsne,top_analysis)\n",
    "# np.save(\"final_indexes.npy\",final_indexes)"
   ],
   "metadata": {
    "collapsed": false,
    "ExecuteTime": {
     "end_time": "2024-05-01T14:18:58.297817600Z",
     "start_time": "2024-05-01T14:18:17.179250400Z"
    }
   },
   "id": "6148a3f824e73c70"
  },
  {
   "cell_type": "code",
   "execution_count": 30,
   "outputs": [
    {
     "name": "stdout",
     "output_type": "stream",
     "text": [
      "8\n",
      "[342 343 344 345 346 347 348 349 350 351 352 353 354 355 356 357 358 359\n",
      " 360 361 362 363 364 365 366 367 368 369 370 371 372 373 374 375 376 377\n",
      " 378 379 380 381 382 383 384 385 386 387 388 389 390 391 392 393 394 395\n",
      " 396 397 398 399 400 401 402 403 404 405 406 407 408 409 410 411 412 413\n",
      " 414 415 416 417 418 419 420 421 422 423 424 425 426 427 428 429 430 431\n",
      " 432 433 434 435 436 437 438 439 440 441]\n",
      "[ 252  253  254  255  256  299  300  301 4985 5272 5273 5274 5275 5276\n",
      " 5277 5278 5279 5280 5281 5282 5283 5284 5285 5286 5287 5288 5289 5290\n",
      " 5291 5292 5293 5294 5295 5296 5297 5298 5299 5300 5301 5302 5303 5304\n",
      " 5305 5306 5307 5308 5309 5310 5311 5312 5313 5314 5315 5316 5317 5318\n",
      " 5319 5320 5321 5322 5323 5324 5325 5326 5327 5328 5329 5330 5331 5332\n",
      " 5333 5334 5335 5336 5337 5338 5339 5340 5341 5342 5343 5344 5345 5346\n",
      " 5347 5348 5349 5350 5351 5353 5354 5355 5356 5357 5358 5359 5360 5361\n",
      " 5362 5363]\n",
      "[4365 4366 4367 4368 4369 4370 4371 4372 4373 4374 4375 4376 4377 4378\n",
      " 4379 4380 4381 4382 4383 4384 4385 4386 4387 4388 4389 4390 4391 4392\n",
      " 4393 4394 4395 4396 4397 4398 4399 4400 4401 4402 4403 4404 4405 4406\n",
      " 4407 4408 4409 4410 4411 4412 4413 4414 4415 4416 4417 4418 4419 4420\n",
      " 4421 4422 4423 4424 4425 4426 4427 4428 4429 4430 4431 4432 4433 4434\n",
      " 4435 4436 4437 4438 4439 4440 4441 4442 4443 4444 4445 4446 4447 4448\n",
      " 4449 4450 4451 4452 4453 4454 4455 4456 4457 4458 4459 4460 4461 4462\n",
      " 4463 4464]\n",
      "[ 748  749 4991 4993 4994 4995 4996 4997 4998 4999 5000 5001 5002 5003\n",
      " 5004 5005 5006 5007 5008 5009 5010 5011 5012 5013 5014 5015 5016 5017\n",
      " 5018 5019 5020 5021 5022 5023 5024 5025 5026 5027 5028 5029 5030 5031\n",
      " 5032 5033 5034 5035 5036 5037 5038 5039 5040 5041 5042 5043 5044 5045\n",
      " 5046 5047 5048 5049 5050 5051 5052 5053 5054 5055 5056 5057 5058 5059\n",
      " 5060 5061 5062 5063 5064 5065 5066 5067 5068 5069 5070 5071 5072 5073\n",
      " 5074 5075 5076 5077 5078 5079 5080 5081 5082 5083 5084 5085 5086 5087\n",
      " 5088 5089]\n",
      "[14355 14430 14431 14432 14433 14434 14435 14436 14437 14438 14439 14440\n",
      " 14441 14442 14443 14444 14445 14446 14447 14448 14449 14450 14451 14452\n",
      " 14453 14454 14455 14456 14457 14458 14459 14460 14461 14462 14463 14464\n",
      " 14465 14466 14467 14468 14664 14675 14676 14677 14678 14679 14680 14681\n",
      " 14682 14683 14684 14685 14694 14695 14696 14697 14698 14699 14700 14701\n",
      " 14702 16450 16451 16452 16453 16454 16455 16456 16457 16458 16459 16460\n",
      " 18107 18111 18113 18115 18117 18119 18120 18122 18123 18124 18125 18126\n",
      " 18127 18128 18129 18131 18132 18133 18134 18135 18136 18137 18138 18139\n",
      " 18140 18141 18142 18143]\n",
      "[  41   46   49   52   54   56   58   63  206  207  208  209  210  211\n",
      "  212  213  214  215  216  249  250  251  258  259  260  261  262  263\n",
      "  264  265  266  268  269  270  271  272  273  274  275  276  277  278\n",
      "  279  280  281  282  283  284  285  286  287  288  289  290  291  292\n",
      "  293  294  750  751  752  753  754 2604 2605 2606 2607 2608 2609 2839\n",
      " 2840 2841 2842 2843 2844 3099 3100 3101 3102 3103 3377 3378 3379 3380\n",
      " 3381 3408 3409 3410 3411 3412 3718 3719 3720 3721 3722 4008 4009 4010\n",
      " 4011 4012]\n",
      "[   5 9181 9182 9183 9184 9185 9186 9187 9188 9189 9190 9191 9192 9193\n",
      " 9194 9195 9196 9197 9198 9199 9200 9201 9202 9203 9204 9205 9206 9207\n",
      " 9208 9209 9210 9211 9212 9213 9214 9215 9216 9217 9218 9219 9220 9221\n",
      " 9222 9223 9224 9225 9226 9227 9228 9229 9230 9231 9232 9233 9234 9235\n",
      " 9236 9237 9238 9239 9240 9241 9242 9243 9244 9245 9246 9247 9248 9249\n",
      " 9250 9251 9252 9253 9254 9255 9256 9257 9258 9259 9260 9261 9262 9263\n",
      " 9264 9265 9266 9267 9268 9269 9270 9271 9272 9273 9274 9275 9276 9277\n",
      " 9278 9279]\n",
      "[   14   169   170   182  9100  9101  9102  9103  9104  9105  9106  9107\n",
      "  9108  9109  9110  9111  9112  9113  9114  9115  9116  9117  9118  9119\n",
      "  9120  9121  9122  9123  9124  9125  9126  9127  9128  9129  9130  9131\n",
      "  9132  9133  9134  9135  9136  9137  9138  9139  9140  9141  9142  9143\n",
      "  9144  9145  9146  9147  9148  9149  9150  9151  9152  9153  9154  9155\n",
      "  9156  9157  9158  9159  9160  9161  9162  9163  9164  9165  9166  9167\n",
      "  9168  9169  9170  9171  9172  9173 10073 10074 10075 10076 10077 10078\n",
      " 10079 10080 10084 10086 10087 10089 10105 10111 10115 10118 10122 10124\n",
      " 10153 10156 10162 10163]\n"
     ]
    }
   ],
   "source": [
    "# print(len(final_indexes))\n",
    "# for index in final_indexes:\n",
    "#     print(index[:100])"
   ],
   "metadata": {
    "collapsed": false,
    "ExecuteTime": {
     "end_time": "2024-05-01T14:22:44.330139600Z",
     "start_time": "2024-05-01T14:22:44.313872500Z"
    }
   },
   "id": "e7798592fa4bb3fc"
  },
  {
   "cell_type": "code",
   "execution_count": 32,
   "outputs": [
    {
     "name": "stdout",
     "output_type": "stream",
     "text": [
      "0\n",
      "1\n",
      "2\n",
      "3\n",
      "4\n",
      "5\n",
      "6\n",
      "7\n"
     ]
    }
   ],
   "source": [
    "import os\n",
    "import shutil\n",
    "\n",
    "for i,final_index in enumerate(final_indexes):\n",
    "    print(i)\n",
    "    np.save(f\"C:\\\\Users\\\\alexa\\\\Desktop\\\\Thumos14\\\\hsne_analysis_25000\\\\hsne_{i}\",X[list(final_index)])\n",
    "    os.makedirs(f\"C:\\\\Users\\\\alexa\\\\Desktop\\\\Thumos14\\\\hsne_analysis_25000\\\\frames_{i}\",)\n",
    "    for j,index in enumerate(final_index):\n",
    "        shutil.copy(f\"C:\\\\Users\\\\alexa\\\\Desktop\\\\Thumos14\\\\frames\\\\{index}.jpg\", f\"C:\\\\Users\\\\alexa\\\\Desktop\\\\Thumos14\\\\hsne_analysis_25000\\\\frames_{i}\\\\{j}.jpg\")\n",
    "        \n",
    "    "
   ],
   "metadata": {
    "collapsed": false,
    "ExecuteTime": {
     "end_time": "2024-05-01T14:27:35.968620800Z",
     "start_time": "2024-05-01T14:24:00.585526100Z"
    }
   },
   "id": "b5e62169b2da9b91"
  },
  {
   "cell_type": "code",
   "execution_count": null,
   "outputs": [
    {
     "name": "stdout",
     "output_type": "stream",
     "text": [
      "[1428 1433 1436 1437 1440 1441 1443 1444 1466 1467 1469 1470 1471 1472\n",
      " 1473 1474 1475 1476 1477 1478 1479 1480 1481 1482 1483 1484 1485 1486\n",
      " 1487 1488 1489 1490 1491 1492 1493 1494 1495 1497 1498 1499 1502 1503\n",
      " 1504 1505 1506 1507 1509 1646 1647 1648 1649 1650 1651 1652 1653 1654\n",
      " 1655 1656 1657 1658 1659 1660 1661 1662 3297 3700 3701 3846 3847 3878\n",
      " 3879 3880 3881 3882 3883 3884 3885 3886 3887 3888 3889 3890 3891 3892\n",
      " 4419 4517 6723]\n",
      "[   387    388    389    390    391    392    393    394    395    396\n",
      "    397    398    399    400    401    402    403    404    405    406\n",
      "    407    408    409    410    411    412    413    414    415    416\n",
      "    417    418    419    420    421    422    423    424    425    426\n",
      "    427    428    429    430    431    432    433    434    435    436\n",
      "    437    438    439    440    441    442    443    444    445    446\n",
      "    447    448    449    450    451    452    453    454    455    456\n",
      "    457    458    459    460    461    462    463    464    465    466\n",
      "    467    468    469    470    471    472    473    474    475    476\n",
      "    477    478    479    480    481    482    483    484    485    486\n",
      "    487    488    489    490    491    492    493    494    495    496\n",
      "    497    498    499    500    501    502    503    504    505    506\n",
      "    507    508    509    510    511    512    513    514    515    516\n",
      "    517    518    519    520    521    522    523    524    525    526\n",
      "    527    528    529    530    531    532    533    534    535    536\n",
      "    537    538    539    540    541    542    543    544    545    546\n",
      "    547    548    549    550    551    552    553    554    555    556\n",
      "    557    558    559    560    561    562    563    564    565    566\n",
      "    567    568    569    570    571    572    573    574    575    576\n",
      "    577    578    579    580    581    582    583    584    585    586\n",
      "    587    588    589    590    591    592    593    594    595    596\n",
      "    597    598    599    600    601    602    603    604    605    606\n",
      "    607    608    609    610    611    612    613    614    615    616\n",
      "    617    618    619    620    621    622    623    624    625    626\n",
      "    627    628    629    630    631    632    633    634    635    636\n",
      "    637    638    639    640    641    642    643    644    645    646\n",
      "    647    648    649    650    651    652    653    654    655    656\n",
      "    657    658    659  45556 111967]\n",
      "[13944 13945 13946 13948 13954 13955 13958 24152 26050 26051 26052 26053\n",
      " 26054 26057 26058 26064 26065 26209 26330 26333 26336 26338 26350 26351\n",
      " 26352 26353 26393 26394 26395 26396 26397 26402 26415 30029 30032 40427\n",
      " 40428 40429 40430 40431 40432 40433 40434 40435 40437 40438 40440 40445\n",
      " 40446 40451 40452 40453 40454 40455 40456 40457 40458 40459 40460 40461\n",
      " 40462 40463]\n",
      "[   258    343    344    345    346    347    349    350    351    352\n",
      "    353    354    355    356    358    359    361    362    363    364\n",
      "    365    366    367    368    369    371    372    373    374    375\n",
      "    376    377    378    379    381    382    383    384    386    387\n",
      "    388    391    392    393 255598]\n",
      "[  258 14776 14785 14789 14792 14794 14798 14799 14800 14801 14803 14804\n",
      " 14805 14806 14807 14808 14809 14879 14880 14929 14930 14931 14932 14933\n",
      " 14934 14935 14937 14938 14939 14940 14941 14942 14943 14944 14945 14947\n",
      " 14948 14949 15186 15441 15442 15443 15444 15445 15446 15447 15448 15465\n",
      " 15468 15469]\n",
      "[258 543 551 553 555 557 558 560 561 563 564 565 566 567 568 569 570 571\n",
      " 572 573 574 575 576 577 578 579 580 581 582 583 584 585 586 587 588 589\n",
      " 590 591 592 593 594 595 596]\n"
     ]
    }
   ],
   "source": [
    "# chunks = split_into_chunks(100)\n",
    "# new_analyses = []\n",
    "# final_indexes = []\n",
    "# intermediate_analysis = []\n",
    "# for chunk in chunks:\n",
    "#     analysis = create_new_analysis(hsne, chunk, top_analysis, 1)\n",
    "#     if analysis.number_of_points != 0:\n",
    "#         # intermediate_analysis.append(analysis)\n",
    "#         final_analysis = create_new_analysis(hsne, analysis.landmark_indexes, analysis, 1)\n",
    "#         if final_analysis.number_of_points != 0:\n",
    "#             print(final_analysis.landmark_orig_indexes)\n",
    "#             final_indexes.append(final_analysis.landmark_orig_indexes)\n",
    "# np.save(\"final_indexes.npy\",final_indexes)"
   ],
   "metadata": {
    "collapsed": false,
    "is_executing": true,
    "ExecuteTime": {
     "start_time": "2024-04-30T20:04:47.566982600Z"
    }
   },
   "id": "71da6430e528f77"
  },
  {
   "cell_type": "code",
   "execution_count": 1,
   "outputs": [
    {
     "ename": "NameError",
     "evalue": "name 'intermediate_analysis' is not defined",
     "output_type": "error",
     "traceback": [
      "\u001B[1;31m---------------------------------------------------------------------------\u001B[0m",
      "\u001B[1;31mNameError\u001B[0m                                 Traceback (most recent call last)",
      "Cell \u001B[1;32mIn[1], line 2\u001B[0m\n\u001B[0;32m      1\u001B[0m final_indexes \u001B[38;5;241m=\u001B[39m []\n\u001B[1;32m----> 2\u001B[0m \u001B[38;5;28;01mfor\u001B[39;00m analysis \u001B[38;5;129;01min\u001B[39;00m \u001B[43mintermediate_analysis\u001B[49m:\n\u001B[0;32m      3\u001B[0m     final_analysis \u001B[38;5;241m=\u001B[39m create_new_analysis(hsne, analysis\u001B[38;5;241m.\u001B[39mlandmark_indexes\u001B[38;5;241m.\u001B[39mtolist(), analysis, \u001B[38;5;241m500\u001B[39m)\n\u001B[0;32m      4\u001B[0m     final_indexes\u001B[38;5;241m.\u001B[39mappend(final_analysis\u001B[38;5;241m.\u001B[39mlandmark_orig_indexes\u001B[38;5;241m.\u001B[39mtolist())\n",
      "\u001B[1;31mNameError\u001B[0m: name 'intermediate_analysis' is not defined"
     ]
    }
   ],
   "source": [
    "# final_indexes = []\n",
    "# for analysis in intermediate_analysis:\n",
    "#     final_analysis = create_new_analysis(hsne, analysis.landmark_indexes.tolist(), analysis, 500)\n",
    "#     final_indexes.append(final_analysis.landmark_orig_indexes.tolist())\n",
    "#     print(final_analysis.landmark_orig_indexes)"
   ],
   "metadata": {
    "collapsed": false,
    "ExecuteTime": {
     "end_time": "2024-04-30T19:59:20.655841700Z",
     "start_time": "2024-04-30T19:59:19.008233200Z"
    }
   },
   "id": "bd5a6757985112bf"
  },
  {
   "cell_type": "code",
   "execution_count": 22,
   "outputs": [
    {
     "name": "stdout",
     "output_type": "stream",
     "text": [
      "3612\n",
      "647\n",
      "125\n",
      "134\n",
      "432\n",
      "156\n",
      "262\n",
      "0\n",
      "26\n",
      "1232\n",
      "445\n",
      "212\n",
      "798\n",
      "2211\n",
      "292\n",
      "336\n",
      "681\n",
      "413\n"
     ]
    }
   ],
   "source": [
    "# for i,final_index in enumerate(final_indexes):\n",
    "#     print(len(final_index))\n",
    "#     # with open(f\"C:\\\\Users\\\\alexa\\\\Desktop\\\\Thumos14\\\\hsne_analysis\\\\hsne_data_{i}.npy\", \"wb\") as file:\n",
    "#     #     np.save(file,X[final_index])"
   ],
   "metadata": {
    "collapsed": false,
    "ExecuteTime": {
     "end_time": "2024-04-30T16:45:48.154625200Z",
     "start_time": "2024-04-30T16:45:48.139596400Z"
    }
   },
   "id": "390a878b280f7613"
  },
  {
   "cell_type": "code",
   "execution_count": null,
   "outputs": [],
   "source": [],
   "metadata": {
    "collapsed": false
   },
   "id": "1aad8af7a82440a6"
  }
 ],
 "metadata": {
  "kernelspec": {
   "display_name": "Python 3",
   "language": "python",
   "name": "python3"
  },
  "language_info": {
   "codemirror_mode": {
    "name": "ipython",
    "version": 2
   },
   "file_extension": ".py",
   "mimetype": "text/x-python",
   "name": "python",
   "nbconvert_exporter": "python",
   "pygments_lexer": "ipython2",
   "version": "2.7.6"
  }
 },
 "nbformat": 4,
 "nbformat_minor": 5
}
